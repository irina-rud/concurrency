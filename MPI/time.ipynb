{
 "cells": [
  {
   "cell_type": "code",
   "execution_count": 1,
   "metadata": {
    "collapsed": true
   },
   "outputs": [],
   "source": [
    "import numpy as np\n",
    "import matplotlib.pyplot as plt\n",
    "%matplotlib inline"
   ]
  },
  {
   "cell_type": "code",
   "execution_count": 23,
   "metadata": {
    "collapsed": false
   },
   "outputs": [
    {
     "name": "stdout",
     "output_type": "stream",
     "text": [
      "dict_keys([2, 3, 4, 5, 6, 7, 8, 9, 10, 11, 12, 13, 14, 15, 16, 17, 18, 19, 20, 21, 22, 23, 24, 25, 26, 27, 28, 29, 30, 31])\n"
     ]
    },
    {
     "data": {
      "image/png": "[encoded data removed]",
      "text/plain": [
       "<matplotlib.figure.Figure at 0x7ff6220cf278>"
      ]
     },
     "metadata": {},
     "output_type": "display_data"
    },
    {
     "data": {
      "image/png": "[encoded data removed]",
      "text/plain": [
       "<matplotlib.figure.Figure at 0x7ff621e75f98>"
      ]
     },
     "metadata": {},
     "output_type": "display_data"
    }
   ],
   "source": [
    "# X = [2,3,4,5,6,7,8,9, 10, 11,12,13,14,15,16]\n",
    "\n",
    "Y_1 = {2:np.array([113.9,114.6]),\n",
    "     3:np.array([57.4,57.7]),\n",
    "     4:np.array([38.4,38.0]),\n",
    "     5:np.array([28.8,28.7]),\n",
    "     6:np.array([22.8,23.8]),\n",
    "     7:np.array([19.3,19.4]),\n",
    "     8:np.array([16.5,16.6]),\n",
    "     9:np.array([14.6,14.5]),\n",
    "     10:np.array([13.5,13.9]),\n",
    "     11:np.array([11.6,12.4]),\n",
    "      12:np.array([10.9, 11.0]),\n",
    "      13:np.array([10.2,10.0]),\n",
    "      14:np.array([9.5,9.1]),\n",
    "      15:np.array([9.4,9.1]),\n",
    "      16:np.array([8.4,8.2]),\n",
    "      17:np.array([7.8,7.7]),\n",
    "      18:np.array([8.0,7.5]),\n",
    "      19:np.array([7.5,7.5]),\n",
    "      20:np.array([6.8,7.1]),\n",
    "      21:np.array([6.4,6.8]),\n",
    "      22:np.array([6.4,6.2,7.9,8.3,6.2]),\n",
    "      23:np.array([6.3,6.0]),\n",
    "      24:np.array([5.9,6.1]),\n",
    "      25:np.array([6.3,5.7,6.6]),\n",
    "      26:np.array([5.4,5.4]),\n",
    "      27:np.array([10.5,7.1,5.9,6.9,5.7]),\n",
    "      28:np.array([5.3,6.9,10.6]),\n",
    "      29:np.array([4.85,9.4,8.3,9.4]),\n",
    "      30:np.array([8.0,9,9.1]),\n",
    "      31:np.array([9.9,9.0])}\n",
    "#100 iters, 500 lines, 500 rows\n",
    "\n",
    "X = list(Y_1.keys())\n",
    "\n",
    "\n",
    "Y_res_1 = [np.mean(Y_1[i]) for i in X]\n",
    "\n",
    "Y_related_1 = [Y_res_1[0]/Y_res_1[i] for i in range(len(X))]\n",
    "\n",
    "plt.plot(X, Y_res_1, c='r')\n",
    "plt.show()\n",
    "\n",
    "plt.plot(X, Y_related_1, c='g')\n",
    "plt.show()\n"
   ]
  }
 ],
 "metadata": {
  "kernelspec": {
   "display_name": "Python 3",
   "language": "python",
   "name": "python3"
  },
  "language_info": {
   "codemirror_mode": {
    "name": "ipython",
    "version": 3
   },
   "file_extension": ".py",
   "mimetype": "text/x-python",
   "name": "python",
   "nbconvert_exporter": "python",
   "pygments_lexer": "ipython3",
   "version": "3.5.2"
  }
 },
 "nbformat": 4,
 "nbformat_minor": 0
}
